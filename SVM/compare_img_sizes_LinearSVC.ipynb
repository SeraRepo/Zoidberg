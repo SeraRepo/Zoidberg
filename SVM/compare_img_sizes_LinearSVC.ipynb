{
 "cells": [
  {
   "cell_type": "code",
   "execution_count": 4,
   "metadata": {},
   "outputs": [],
   "source": [
    "import cv2\n",
    "import os\n",
    "import numpy as np\n",
    "from tqdm import tqdm\n",
    "from sklearn import svm\n",
    "from sklearn.naive_bayes import GaussianNB\n",
    "from sklearn.metrics import accuracy_score, confusion_matrix, roc_curve, auc, log_loss\n",
    "import matplotlib.pyplot as plt"
   ]
  },
  {
   "cell_type": "code",
   "execution_count": 5,
   "metadata": {},
   "outputs": [],
   "source": [
    "def get_and_process_data(path, image_size):\n",
    "    data_array = os.listdir(path)\n",
    "    data = list()\n",
    "    for img in data_array:\n",
    "        try:\n",
    "            img_arr = cv2.imread(os.path.join(path, img), cv2.IMREAD_GRAYSCALE)\n",
    "            resized_array = cv2.resize(img_arr, (image_size, image_size))\n",
    "            #squasing the array in 2D\n",
    "            reshaped_array = resized_array.reshape(image_size * image_size)\n",
    "            data.append(reshaped_array)\n",
    "        except Exception as e:\n",
    "            # print(e)\n",
    "            1+1\n",
    "    return np.array(data)\n",
    "\n",
    "def analyzeConfusionMatrix(model, cm):\n",
    "    falsePositiveRatio = cm[0][1]/sum(cm[0])*100\n",
    "    print(model, 'falsely detected ', \"{:.2f}\".format(falsePositiveRatio), '% of sane patients as having pneumonia')\n",
    "    deadRatio = cm[1][0]/sum(cm[1])*100\n",
    "    print(model,' killed ',\"{:.2f}\".format(deadRatio), '% of the ill patients')\n",
    "    print()\n",
    "    return deadRatio\n",
    "\n",
    "def runSize(size, algo, algoName):\n",
    "    dataset_location = './dataset'\n",
    "    image_size = size\n",
    "    train_pneumonia = get_and_process_data(dataset_location+'/train/PNEUMONIA', image_size)\n",
    "    train_normal = get_and_process_data(dataset_location+'/train/NORMAL', image_size)\n",
    "    test_pneumonia = get_and_process_data(dataset_location+'/test/PNEUMONIA', image_size)\n",
    "    test_normal = get_and_process_data(dataset_location+'/test/NORMAL', image_size)\n",
    "\n",
    "    train_x, train_y, test_x, test_y = list(), list(), list(), list()\n",
    "    for img in tqdm(train_pneumonia):\n",
    "        train_x.append(img)\n",
    "        train_y.append('PNEUMONIA')\n",
    "    for img in tqdm(train_normal):\n",
    "        train_x.append(img)\n",
    "        train_y.append('NORMAL')\n",
    "    for img in tqdm(test_pneumonia):\n",
    "        test_x.append(img)\n",
    "        test_y.append('PNEUMONIA')\n",
    "    for img in tqdm(test_normal):\n",
    "        test_x.append(img)\n",
    "        test_y.append('NORMAL')\n",
    "\n",
    "    _test_y = test_y\n",
    "    \n",
    "    model = algo.fit(train_x, train_y)\n",
    "\n",
    "    y_pred = model.predict(test_x)\n",
    "\n",
    "    score = model.score(test_x, test_y)\n",
    "    print(algoName+' score: %f' % score)\n",
    "\n",
    "    cm = confusion_matrix(test_y, y_pred)\n",
    "\n",
    "    print(cm)\n",
    "\n",
    "    analyzeConfusionMatrix(algoName, cm)\n",
    "    return [{\n",
    "        \"size\": size,\n",
    "        \"preds\": y_pred,\n",
    "        \"accuracy\": score,\n",
    "        \"cm\": cm,\n",
    "    },\n",
    "    test_y]"
   ]
  },
  {
   "cell_type": "code",
   "execution_count": 6,
   "metadata": {},
   "outputs": [],
   "source": [
    "lSVC = svm.LinearSVC()"
   ]
  },
  {
   "cell_type": "code",
   "execution_count": 7,
   "metadata": {},
   "outputs": [
    {
     "name": "stderr",
     "output_type": "stream",
     "text": [
      "100%|██████████| 3875/3875 [00:00<00:00, 1999622.05it/s]\n",
      "100%|██████████| 1341/1341 [00:00<00:00, 1228875.17it/s]\n",
      "100%|██████████| 390/390 [00:00<00:00, 1401695.42it/s]\n",
      "100%|██████████| 234/234 [00:00<00:00, 418893.36it/s]\n",
      "/home/simon/.local/lib/python3.9/site-packages/sklearn/svm/_base.py:1206: ConvergenceWarning: Liblinear failed to converge, increase the number of iterations.\n",
      "  warnings.warn(\n"
     ]
    },
    {
     "name": "stdout",
     "output_type": "stream",
     "text": [
      "Linear SVC score: 0.625000\n",
      "[[  0 234]\n",
      " [  0 390]]\n",
      "Linear SVC falsely detected  100.00 % of sane patients as having pneumonia\n",
      "Linear SVC  killed  0.00 % of the ill patients\n",
      "\n"
     ]
    },
    {
     "name": "stderr",
     "output_type": "stream",
     "text": [
      "100%|██████████| 3875/3875 [00:00<00:00, 2512044.51it/s]\n",
      "100%|██████████| 1341/1341 [00:00<00:00, 1430822.10it/s]\n",
      "100%|██████████| 390/390 [00:00<00:00, 1125019.64it/s]\n",
      "100%|██████████| 234/234 [00:00<00:00, 879450.84it/s]\n",
      "/home/simon/.local/lib/python3.9/site-packages/sklearn/svm/_base.py:1206: ConvergenceWarning: Liblinear failed to converge, increase the number of iterations.\n",
      "  warnings.warn(\n"
     ]
    },
    {
     "name": "stdout",
     "output_type": "stream",
     "text": [
      "Linear SVC score: 0.741987\n",
      "[[ 80 154]\n",
      " [  7 383]]\n",
      "Linear SVC falsely detected  65.81 % of sane patients as having pneumonia\n",
      "Linear SVC  killed  1.79 % of the ill patients\n",
      "\n"
     ]
    },
    {
     "name": "stderr",
     "output_type": "stream",
     "text": [
      "100%|██████████| 3875/3875 [00:00<00:00, 1699563.74it/s]\n",
      "100%|██████████| 1341/1341 [00:00<00:00, 1339181.35it/s]\n",
      "100%|██████████| 390/390 [00:00<00:00, 1147914.78it/s]\n",
      "100%|██████████| 234/234 [00:00<00:00, 1207216.65it/s]\n",
      "/home/simon/.local/lib/python3.9/site-packages/sklearn/svm/_base.py:1206: ConvergenceWarning: Liblinear failed to converge, increase the number of iterations.\n",
      "  warnings.warn(\n"
     ]
    },
    {
     "name": "stdout",
     "output_type": "stream",
     "text": [
      "Linear SVC score: 0.746795\n",
      "[[ 81 153]\n",
      " [  5 385]]\n",
      "Linear SVC falsely detected  65.38 % of sane patients as having pneumonia\n",
      "Linear SVC  killed  1.28 % of the ill patients\n",
      "\n"
     ]
    },
    {
     "name": "stderr",
     "output_type": "stream",
     "text": [
      "100%|██████████| 3875/3875 [00:00<00:00, 2492015.95it/s]\n",
      "100%|██████████| 1341/1341 [00:00<00:00, 1470473.64it/s]\n",
      "100%|██████████| 390/390 [00:00<00:00, 1441214.59it/s]\n",
      "100%|██████████| 234/234 [00:00<00:00, 1016011.53it/s]\n",
      "/home/simon/.local/lib/python3.9/site-packages/sklearn/svm/_base.py:1206: ConvergenceWarning: Liblinear failed to converge, increase the number of iterations.\n",
      "  warnings.warn(\n"
     ]
    },
    {
     "name": "stdout",
     "output_type": "stream",
     "text": [
      "Linear SVC score: 0.751603\n",
      "[[ 83 151]\n",
      " [  4 386]]\n",
      "Linear SVC falsely detected  64.53 % of sane patients as having pneumonia\n",
      "Linear SVC  killed  1.03 % of the ill patients\n",
      "\n"
     ]
    },
    {
     "name": "stderr",
     "output_type": "stream",
     "text": [
      "100%|██████████| 3875/3875 [00:00<00:00, 1118885.31it/s]\n",
      "100%|██████████| 1341/1341 [00:00<00:00, 645092.52it/s]\n",
      "100%|██████████| 390/390 [00:00<00:00, 521114.55it/s]\n",
      "100%|██████████| 234/234 [00:00<00:00, 466476.78it/s]\n",
      "/home/simon/.local/lib/python3.9/site-packages/sklearn/svm/_base.py:1206: ConvergenceWarning: Liblinear failed to converge, increase the number of iterations.\n",
      "  warnings.warn(\n"
     ]
    },
    {
     "name": "stdout",
     "output_type": "stream",
     "text": [
      "Linear SVC score: 0.748397\n",
      "[[ 80 154]\n",
      " [  3 387]]\n",
      "Linear SVC falsely detected  65.81 % of sane patients as having pneumonia\n",
      "Linear SVC  killed  0.77 % of the ill patients\n",
      "\n"
     ]
    },
    {
     "name": "stderr",
     "output_type": "stream",
     "text": [
      "100%|██████████| 3875/3875 [00:00<00:00, 1609200.79it/s]\n",
      "100%|██████████| 1341/1341 [00:00<00:00, 705097.36it/s]\n",
      "100%|██████████| 390/390 [00:00<00:00, 463524.67it/s]\n",
      "100%|██████████| 234/234 [00:00<00:00, 414295.96it/s]\n",
      "/home/simon/.local/lib/python3.9/site-packages/sklearn/svm/_base.py:1206: ConvergenceWarning: Liblinear failed to converge, increase the number of iterations.\n",
      "  warnings.warn(\n"
     ]
    },
    {
     "name": "stdout",
     "output_type": "stream",
     "text": [
      "Linear SVC score: 0.750000\n",
      "[[ 81 153]\n",
      " [  3 387]]\n",
      "Linear SVC falsely detected  65.38 % of sane patients as having pneumonia\n",
      "Linear SVC  killed  0.77 % of the ill patients\n",
      "\n"
     ]
    }
   ],
   "source": [
    "arrSize = [2,50,100,150,250,300]\n",
    "# arrSize = [2,50]\n",
    "results = []\n",
    "test_y = list()\n",
    "for i in arrSize:\n",
    "    r, test_y = runSize(i, lSVC, \"Linear SVC\")\n",
    "    results.append(r)\n"
   ]
  },
  {
   "cell_type": "code",
   "execution_count": 8,
   "metadata": {},
   "outputs": [],
   "source": [
    "accuracy = {}\n",
    "cms = {}\n",
    "preds = {}\n",
    "for i in results:\n",
    "    accuracy[i['size']]=i['accuracy']\n",
    "    cms[i['size']]=i['cm']\n",
    "    preds[i['size']]=i['preds']"
   ]
  },
  {
   "cell_type": "code",
   "execution_count": 9,
   "metadata": {},
   "outputs": [],
   "source": [
    "def accuracyGraph(accDict):\n",
    "\n",
    "    imgSize=list(accDict.keys())\n",
    "    print(accDict)\n",
    "    acc=[x*100 for x in accDict.values()]\n",
    "\n",
    "    xAxis=np.arange(len(imgSize))\n",
    "    plt.figure(figsize=(10,5))\n",
    "\n",
    "    plt.bar(xAxis, acc, width=0.4, label=\"Accuracy\")\n",
    "    plt.xticks(xAxis, imgSize)\n",
    "    plt.legend()\n",
    "\n",
    "\n",
    "    plt.show()\n",
    "\n",
    "def cmGraph(cmDict):\n",
    "    imgSize=list(cmDict.keys())\n",
    "    fp=[x[0][1]/sum(x[0])*100 for x in cmDict.values()]\n",
    "    fn=[x[1][0]/sum(x[1])*100 for x in cmDict.values()]\n",
    "\n",
    "    xAxis=np.arange(len(imgSize))\n",
    "    plt.figure(figsize=(10,5))\n",
    "\n",
    "    plt.bar(xAxis -0.2, fp, width=0.4, label=\"False Positive\")\n",
    "    plt.bar(xAxis +0.2, fn, width=0.4, label=\"False Negative\")\n",
    "    plt.xticks(xAxis, imgSize)\n",
    "    plt.legend()\n",
    "\n",
    "\n",
    "    plt.show()\n",
    "\n",
    "def rocAucGraph():\n",
    "    i=0\n",
    "    plt.title('Receiver Operating Characteristic')\n",
    "    plt.xlim([0, 1])\n",
    "    plt.ylim([0, 1])\n",
    "    plt.ylabel('True Positive Rate')\n",
    "    plt.xlabel('False Positive Rate')\n",
    "    for x in preds:\n",
    "        print(len(test_y))\n",
    "        print(preds[x][0][0])\n",
    "        fpr, tpr, treshold = roc_curve(test_y, preds[x], pos_label=1)\n",
    "\n",
    "        roc_auc = auc(fpr, tpr)\n",
    "\n",
    "        plt.plot(fpr, tpr, label = x+' AUC = %0.2f' % roc_auc, color='C'+str(i))\n",
    "        i = i+1\n",
    "        plt.legend(loc = 'lower right')\n",
    "    plt.plot([0, 1], [0, 1],'r--')\n",
    "    plt.show()"
   ]
  },
  {
   "cell_type": "code",
   "execution_count": 10,
   "metadata": {},
   "outputs": [
    {
     "name": "stdout",
     "output_type": "stream",
     "text": [
      "{2: 0.625, 50: 0.7419871794871795, 100: 0.7467948717948718, 150: 0.7516025641025641, 250: 0.7483974358974359, 300: 0.75}\n"
     ]
    },
    {
     "data": {
      "image/png": "[encoded data removed]",
      "text/plain": [
       "<Figure size 720x360 with 1 Axes>"
      ]
     },
     "metadata": {
      "needs_background": "light"
     },
     "output_type": "display_data"
    },
    {
     "data": {
      "image/png": "[encoded data removed]",
      "text/plain": [
       "<Figure size 720x360 with 1 Axes>"
      ]
     },
     "metadata": {
      "needs_background": "light"
     },
     "output_type": "display_data"
    }
   ],
   "source": [
    "accuracyGraph(accuracy)\n",
    "cmGraph(cms)\n"
   ]
  },
  {
   "cell_type": "code",
   "execution_count": 11,
   "metadata": {},
   "outputs": [],
   "source": [
    "# rocAucGraph()"
   ]
  }
 ],
 "metadata": {
  "interpreter": {
   "hash": "36cf16204b8548560b1c020c4e8fb5b57f0e4c58016f52f2d4be01e192833930"
  },
  "kernelspec": {
   "display_name": "Python 3.9.11 64-bit",
   "language": "python",
   "name": "python3"
  },
  "language_info": {
   "codemirror_mode": {
    "name": "ipython",
    "version": 3
   },
   "file_extension": ".py",
   "mimetype": "text/x-python",
   "name": "python",
   "nbconvert_exporter": "python",
   "pygments_lexer": "ipython3",
   "version": "3.9.12"
  },
  "orig_nbformat": 4
 },
 "nbformat": 4,
 "nbformat_minor": 2
}
