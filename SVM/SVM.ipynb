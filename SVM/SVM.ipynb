{
 "cells": [
  {
   "cell_type": "code",
   "execution_count": 88,
   "metadata": {},
   "outputs": [],
   "source": [
    "\n",
    "import cv2\n",
    "import gzip\n",
    "import os\n",
    "import sys\n",
    "import struct\n",
    "import numpy as np\n",
    "import matplotlib.pyplot as plt\n",
    "import seaborn as sns\n",
    "from tqdm import tqdm\n",
    "from sklearn.pipeline import make_pipeline\n",
    "from sklearn.preprocessing import StandardScaler\n",
    "from sklearn import svm \n",
    "from sklearn.metrics import accuracy_score, confusion_matrix\n",
    "from sklearn_genetic import GASearchCV\n",
    "from sklearn_genetic.space import Continuous, Categorical, Integer\n",
    "from sklearn_genetic.plots import plot_fitness_evolution, plot_search_space\n",
    "from sklearn.model_selection import StratifiedKFold"
   ]
  },
  {
   "cell_type": "markdown",
   "metadata": {},
   "source": [
    "### Data processing"
   ]
  },
  {
   "cell_type": "code",
   "execution_count": 5,
   "metadata": {},
   "outputs": [],
   "source": [
    "def get_and_process_data(path, image_size):\n",
    "    data_array = os.listdir(path)\n",
    "    data = list()\n",
    "    for img in tqdm(data_array):\n",
    "        try:\n",
    "            img_arr = cv2.imread(os.path.join(path, img), cv2.IMREAD_GRAYSCALE)\n",
    "            resized_array = cv2.resize(img_arr, (image_size, image_size))\n",
    "            #squasing the array in 2D\n",
    "            reshaped_array = resized_array.reshape(image_size * image_size)\n",
    "            data.append(reshaped_array)\n",
    "        except Exception as e:\n",
    "            print(e)\n",
    "    return np.array(data)"
   ]
  },
  {
   "cell_type": "code",
   "execution_count": 8,
   "metadata": {},
   "outputs": [
    {
     "name": "stderr",
     "output_type": "stream",
     "text": [
      " 57%|█████▋    | 2220/3876 [00:17<00:11, 145.29it/s]"
     ]
    },
    {
     "name": "stdout",
     "output_type": "stream",
     "text": [
      "OpenCV(4.5.5) /io/opencv/modules/imgproc/src/resize.cpp:4052: error: (-215:Assertion failed) !ssize.empty() in function 'resize'\n",
      "\n"
     ]
    },
    {
     "name": "stderr",
     "output_type": "stream",
     "text": [
      "100%|██████████| 3876/3876 [00:28<00:00, 135.17it/s]\n",
      " 57%|█████▋    | 763/1342 [00:18<00:13, 41.54it/s]"
     ]
    },
    {
     "name": "stdout",
     "output_type": "stream",
     "text": [
      "OpenCV(4.5.5) /io/opencv/modules/imgproc/src/resize.cpp:4052: error: (-215:Assertion failed) !ssize.empty() in function 'resize'\n",
      "\n"
     ]
    },
    {
     "name": "stderr",
     "output_type": "stream",
     "text": [
      "100%|██████████| 1342/1342 [00:36<00:00, 36.38it/s]\n",
      "100%|██████████| 390/390 [00:03<00:00, 124.37it/s]\n",
      "100%|██████████| 234/234 [00:06<00:00, 35.37it/s]\n"
     ]
    }
   ],
   "source": [
    "dataset_location = './dataset'\n",
    "image_size = 150\n",
    "train_pneumonia = get_and_process_data(dataset_location+'/train/PNEUMONIA', image_size)\n",
    "train_normal = get_and_process_data(dataset_location+'/train/NORMAL', image_size)\n",
    "test_pneumonia = get_and_process_data(dataset_location+'/test/PNEUMONIA', image_size)\n",
    "test_normal = get_and_process_data(dataset_location+'/test/NORMAL', image_size)\n"
   ]
  },
  {
   "cell_type": "code",
   "execution_count": 9,
   "metadata": {},
   "outputs": [
    {
     "name": "stderr",
     "output_type": "stream",
     "text": [
      "100%|██████████| 3875/3875 [00:00<00:00, 320583.22it/s]\n",
      "100%|██████████| 1341/1341 [00:00<00:00, 385957.71it/s]\n",
      "100%|██████████| 390/390 [00:00<00:00, 370588.71it/s]\n",
      "100%|██████████| 234/234 [00:00<00:00, 355346.54it/s]\n"
     ]
    }
   ],
   "source": [
    "train_x, train_y, test_x, test_y = list(), list(), list(), list()\n",
    "for img in tqdm(train_pneumonia):\n",
    "    train_x.append(img)\n",
    "    train_y.append('PNEUMONIA')\n",
    "for img in tqdm(train_normal):\n",
    "    train_x.append(img)\n",
    "    train_y.append('NORMAL')\n",
    "for img in tqdm(test_pneumonia):\n",
    "    test_x.append(img)\n",
    "    test_y.append('PNEUMONIA')\n",
    "for img in tqdm(test_normal):\n",
    "    test_x.append(img)\n",
    "    test_y.append('NORMAL')\n",
    "    "
   ]
  },
  {
   "cell_type": "markdown",
   "metadata": {},
   "source": [
    "### Training"
   ]
  },
  {
   "cell_type": "markdown",
   "metadata": {},
   "source": [
    "#### SVC - Support Vector Classification\n",
    "SVC only keeps part of the training dataset because its cost function ignores data beyond the margin.\n",
    "\n",
    "##### NuSVC\n",
    "NuSVC is similar to SVC but is mathematically slightly different.\n",
    "##### Linear SVC\n",
    "LinearSVC is a faster implementions of SVC because it only uses a linear kernel.\n",
    "\n",
    "SVC, NuSVC and LinearSVC are capable of binary and multi-class classification. They can be used for pneumonia/healthy classification as well as viral/bacterial classification at the same time."
   ]
  },
  {
   "cell_type": "code",
   "execution_count": 10,
   "metadata": {},
   "outputs": [],
   "source": [
    "\n",
    "SVC = make_pipeline(StandardScaler(),svm.SVC())\n",
    "nuSVC = make_pipeline(StandardScaler(),svm.NuSVC())\n",
    "linearSVC = make_pipeline(StandardScaler(),svm.LinearSVC())"
   ]
  },
  {
   "cell_type": "code",
   "execution_count": 17,
   "metadata": {},
   "outputs": [],
   "source": [
    "\n",
    "SVC_model = SVC.fit(train_x, train_y)\n"
   ]
  },
  {
   "cell_type": "code",
   "execution_count": 11,
   "metadata": {},
   "outputs": [],
   "source": [
    "nuSVC_model = nuSVC.fit(train_x, train_y)"
   ]
  },
  {
   "cell_type": "code",
   "execution_count": 20,
   "metadata": {},
   "outputs": [
    {
     "name": "stderr",
     "output_type": "stream",
     "text": [
      "/home/simon/.local/lib/python3.9/site-packages/sklearn/svm/_base.py:1206: ConvergenceWarning: Liblinear failed to converge, increase the number of iterations.\n",
      "  warnings.warn(\n"
     ]
    }
   ],
   "source": [
    "linearSVC_model = linearSVC.fit(train_x, train_y)"
   ]
  },
  {
   "cell_type": "markdown",
   "metadata": {},
   "source": [
    "### Metrics"
   ]
  },
  {
   "cell_type": "markdown",
   "metadata": {},
   "source": [
    "#### Accuracy"
   ]
  },
  {
   "cell_type": "code",
   "execution_count": 18,
   "metadata": {},
   "outputs": [],
   "source": [
    "SVC_y_pred = SVC_model.predict(test_x)"
   ]
  },
  {
   "cell_type": "code",
   "execution_count": 19,
   "metadata": {},
   "outputs": [],
   "source": [
    "nuSVC_y_pred = nuSVC_model.predict(test_x)"
   ]
  },
  {
   "cell_type": "code",
   "execution_count": 21,
   "metadata": {},
   "outputs": [],
   "source": [
    "linearSVC_y_pred = linearSVC_model.predict(test_x)"
   ]
  },
  {
   "cell_type": "code",
   "execution_count": 19,
   "metadata": {},
   "outputs": [
    {
     "name": "stdout",
     "output_type": "stream",
     "text": [
      "SVC score: 0.778846\n"
     ]
    }
   ],
   "source": [
    "SVC_score = SVC_model.score(test_x, test_y)\n",
    "print('SVC score: %f' % SVC_score)"
   ]
  },
  {
   "cell_type": "code",
   "execution_count": null,
   "metadata": {},
   "outputs": [
    {
     "name": "stdout",
     "output_type": "stream",
     "text": [
      "nuSVC score: 0.687500\n"
     ]
    }
   ],
   "source": [
    "nuSVC_score = nuSVC_model.score(test_x, test_y)\n",
    "print('nuSVC score: %f' % nuSVC_score)"
   ]
  },
  {
   "cell_type": "code",
   "execution_count": 22,
   "metadata": {},
   "outputs": [
    {
     "name": "stdout",
     "output_type": "stream",
     "text": [
      "linearSVC score: 0.759615\n"
     ]
    }
   ],
   "source": [
    "linearSVC_score = linearSVC_model.score(test_x, test_y)\n",
    "print('linearSVC score: %f' % linearSVC_score)"
   ]
  },
  {
   "cell_type": "code",
   "execution_count": null,
   "metadata": {},
   "outputs": [],
   "source": [
    "accuracy = {\n",
    "    \"Support Vector Classification\": SVC_score,\n",
    "    \"nuSVC\": nuSVC_score,\n",
    "    \"Linear SVC\": linearSVC_score,\n",
    "}\n",
    "\n",
    "modelNames=list(accuracy.keys())\n",
    "acc=[x*100 for x in accuracy.values()]\n",
    "\n",
    "xAxis=np.arange(len(modelNames))\n",
    "plt.figure(figsize=(10,5))\n",
    "\n",
    "plt.bar(xAxis, acc, width=0.4, label=\"Accuracy\")\n",
    "plt.xticks(xAxis, modelNames)\n",
    "plt.legend()\n",
    "\n",
    "\n",
    "plt.show()"
   ]
  },
  {
   "cell_type": "markdown",
   "metadata": {},
   "source": [
    "#### False negatives (deaths)"
   ]
  },
  {
   "cell_type": "code",
   "execution_count": 25,
   "metadata": {},
   "outputs": [],
   "source": [
    "def analyzeConfusionMatrix(model, cm):\n",
    "    falsePositiveRatio = cm[0][1]/sum(cm[0])*100\n",
    "    print(model, 'falsely detected ', \"{:.2f}\".format(falsePositiveRatio), '% of sane patients as having pneumonia')\n",
    "    deadRatio = cm[1][0]/sum(cm[1])*100\n",
    "    print(model,' killed ',\"{:.2f}\".format(deadRatio), '% of the ill patients')\n",
    "    print()\n",
    "    return deadRatio"
   ]
  },
  {
   "cell_type": "code",
   "execution_count": null,
   "metadata": {},
   "outputs": [
    {
     "name": "stdout",
     "output_type": "stream",
     "text": [
      "SVC falsely detected  56.84 % of sane patients as having pneumonia\n",
      "SVC  killed  1.28 % of the ill patients\n",
      "\n",
      "NuSVC falsely detected  82.91 % of sane patients as having pneumonia\n",
      "NuSVC  killed  0.26 % of the ill patients\n",
      "\n",
      "Linear SVC falsely detected  58.97 % of sane patients as having pneumonia\n",
      "Linear SVC  killed  3.08 % of the ill patients\n",
      "\n"
     ]
    }
   ],
   "source": [
    "SVCbCm = confusion_matrix(test_y, SVC_y_pred)\n",
    "nuSVCCm = confusion_matrix(test_y, nuSVC_y_pred)\n",
    "linearSVCbCm = confusion_matrix(test_y, linearSVC_y_pred)\n",
    "\n",
    "preds = {\n",
    "    \"SVC\": SVCbCm,\n",
    "    \"NuSVC\": nuSVCCm,\n",
    "    \"Linear SVC\": linearSVCbCm,\n",
    "}\n",
    "\n",
    "for key, value in preds.items():\n",
    "    analyzeConfusionMatrix(key, value)"
   ]
  },
  {
   "cell_type": "code",
   "execution_count": null,
   "metadata": {},
   "outputs": [
    {
     "data": {
      "image/png": "[encoded data removed]",
      "text/plain": [
       "<Figure size 720x360 with 1 Axes>"
      ]
     },
     "metadata": {
      "needs_background": "light"
     },
     "output_type": "display_data"
    }
   ],
   "source": [
    "modelNames=list(preds.keys())\n",
    "fp=[x[0][1]/sum(x[0])*100 for x in preds.values()]\n",
    "fn=[x[1][0]/sum(x[1])*100 for x in preds.values()]\n",
    "\n",
    "xAxis=np.arange(len(modelNames))\n",
    "plt.figure(figsize=(10,5))\n",
    "\n",
    "plt.bar(xAxis -0.2, fp, width=0.4, label=\"False Positive\")\n",
    "plt.bar(xAxis +0.2, fn, width=0.4, label=\"False Negative\")\n",
    "plt.xticks(xAxis, modelNames)\n",
    "plt.legend()\n",
    "\n",
    "\n",
    "plt.show()"
   ]
  },
  {
   "cell_type": "markdown",
   "metadata": {},
   "source": [
    "### The limit of the false negative ratio\n",
    "The three SVC models seems to have high accuracy of 68%, 75%, 77% but it is caued by the unbalaced dataset. The testing dataset contains 63% positive data.\n",
    "The huge difference of fase positive and false negative ratio would highly alter the accuracy of the algorithm depending on the dataset distribution.\n",
    "\n",
    "This case shows how unreliable the accuracy can be.\n",
    "\n",
    "Those models have the advantage of a low false negative ratio which is important since a false mositive is a pneumonia and a late diagnostic can lead to the death of the patient.\n",
    "\n",
    "That being said, an algorithm with such a high false positive ratio (over 50% for all three models) is not practical in real life since it would require almost consistent double checks, rendering the model useless.\n",
    "\n",
    "Therefore, different metrics need to be used. We are going to introduce cost and lifts."
   ]
  },
  {
   "cell_type": "markdown",
   "metadata": {},
   "source": [
    "### Genetic Algorithm"
   ]
  },
  {
   "cell_type": "code",
   "execution_count": 1,
   "metadata": {},
   "outputs": [
    {
     "ename": "NameError",
     "evalue": "name 'StratifiedKFold' is not defined",
     "output_type": "error",
     "traceback": [
      "\u001b[0;31m---------------------------------------------------------------------------\u001b[0m",
      "\u001b[0;31mNameError\u001b[0m                                 Traceback (most recent call last)",
      "\u001b[1;32m/home/simon/MSC/S8/T-DEV-810-group37/SVM.ipynb Cell 27'\u001b[0m in \u001b[0;36m<module>\u001b[0;34m\u001b[0m\n\u001b[1;32m      <a href='vscode-notebook-cell:/home/simon/MSC/S8/T-DEV-810-group37/SVM.ipynb#ch0000026?line=0'>1</a>\u001b[0m \u001b[39m# Our cross-validation strategy (it could be just an int)\u001b[39;00m\n\u001b[0;32m----> <a href='vscode-notebook-cell:/home/simon/MSC/S8/T-DEV-810-group37/SVM.ipynb#ch0000026?line=1'>2</a>\u001b[0m cv \u001b[39m=\u001b[39m StratifiedKFold(n_splits\u001b[39m=\u001b[39m\u001b[39m3\u001b[39m, shuffle\u001b[39m=\u001b[39m\u001b[39mTrue\u001b[39;00m)\n\u001b[1;32m      <a href='vscode-notebook-cell:/home/simon/MSC/S8/T-DEV-810-group37/SVM.ipynb#ch0000026?line=3'>4</a>\u001b[0m param_grid \u001b[39m=\u001b[39m {\n\u001b[1;32m      <a href='vscode-notebook-cell:/home/simon/MSC/S8/T-DEV-810-group37/SVM.ipynb#ch0000026?line=4'>5</a>\u001b[0m     \u001b[39m'\u001b[39m\u001b[39mkernel\u001b[39m\u001b[39m'\u001b[39m: Categorical([\u001b[39m'\u001b[39m\u001b[39mlinear\u001b[39m\u001b[39m'\u001b[39m, \u001b[39m'\u001b[39m\u001b[39mrbf\u001b[39m\u001b[39m'\u001b[39m, \u001b[39m'\u001b[39m\u001b[39mpoly\u001b[39m\u001b[39m'\u001b[39m, \u001b[39m'\u001b[39m\u001b[39msigmoid\u001b[39m\u001b[39m'\u001b[39m, \u001b[39m'\u001b[39m\u001b[39mprecomputed\u001b[39m\u001b[39m'\u001b[39m]),\n\u001b[1;32m      <a href='vscode-notebook-cell:/home/simon/MSC/S8/T-DEV-810-group37/SVM.ipynb#ch0000026?line=5'>6</a>\u001b[0m     \u001b[39m'\u001b[39m\u001b[39mgamma\u001b[39m\u001b[39m'\u001b[39m: Categorical([\u001b[39m0.1\u001b[39m, \u001b[39m1\u001b[39m, \u001b[39m10\u001b[39m]),\n\u001b[1;32m      <a href='vscode-notebook-cell:/home/simon/MSC/S8/T-DEV-810-group37/SVM.ipynb#ch0000026?line=6'>7</a>\u001b[0m     \u001b[39m'\u001b[39m\u001b[39mC\u001b[39m\u001b[39m'\u001b[39m: Categorical([\u001b[39m0.1\u001b[39m, \u001b[39m1\u001b[39m, \u001b[39m10\u001b[39m]),\n\u001b[1;32m      <a href='vscode-notebook-cell:/home/simon/MSC/S8/T-DEV-810-group37/SVM.ipynb#ch0000026?line=7'>8</a>\u001b[0m     \u001b[39m'\u001b[39m\u001b[39mdegree\u001b[39m\u001b[39m'\u001b[39m: Categorical([\u001b[39m1\u001b[39m, \u001b[39m2\u001b[39m, \u001b[39m3\u001b[39m])\n\u001b[1;32m      <a href='vscode-notebook-cell:/home/simon/MSC/S8/T-DEV-810-group37/SVM.ipynb#ch0000026?line=8'>9</a>\u001b[0m }\n",
      "\u001b[0;31mNameError\u001b[0m: name 'StratifiedKFold' is not defined"
     ]
    }
   ],
   "source": [
    "# Our cross-validation strategy (it could be just an int)\n",
    "cv = StratifiedKFold(n_splits=3, shuffle=True)\n",
    "\n",
    "param_grid = {\n",
    "    'kernel': Categorical(['linear', 'rbf', 'poly', 'sigmoid', 'precomputed']),\n",
    "    'gamma': Categorical([0.1, 1, 10]),\n",
    "    'C': Categorical([0.1, 1, 10]),\n",
    "    'degree': Categorical([1, 2, 3])\n",
    "}"
   ]
  },
  {
   "cell_type": "code",
   "execution_count": 90,
   "metadata": {},
   "outputs": [
    {
     "data": {
      "text/plain": [
       "dict_keys(['C', 'break_ties', 'cache_size', 'class_weight', 'coef0', 'decision_function_shape', 'degree', 'gamma', 'kernel', 'max_iter', 'probability', 'random_state', 'shrinking', 'tol', 'verbose'])"
      ]
     },
     "execution_count": 90,
     "metadata": {},
     "output_type": "execute_result"
    }
   ],
   "source": [
    "svm.SVC().get_params().keys()"
   ]
  },
  {
   "cell_type": "code",
   "execution_count": 91,
   "metadata": {},
   "outputs": [],
   "source": [
    "GASVC = GASearchCV(\n",
    "    estimator=svm.SVC(),\n",
    "    cv=cv,\n",
    "    scoring='accuracy',\n",
    "    param_grid=param_grid,\n",
    "    n_jobs=-1,\n",
    "    verbose=True\n",
    ")"
   ]
  },
  {
   "cell_type": "code",
   "execution_count": 92,
   "metadata": {},
   "outputs": [],
   "source": [
    "GALinearSVC = GASearchCV(\n",
    "    estimator= svm.LinearSVC(),\n",
    "    cv=cv,\n",
    "    scoring='accuracy',\n",
    "    param_grid=param_grid,\n",
    "    n_jobs=-1,\n",
    "    verbose=True\n",
    ")"
   ]
  },
  {
   "cell_type": "code",
   "execution_count": 93,
   "metadata": {},
   "outputs": [
    {
     "name": "stderr",
     "output_type": "stream",
     "text": [
      "/home/simon/.local/lib/python3.9/site-packages/deap/creator.py:138: RuntimeWarning: A class named 'FitnessMax' has already been created and it will be overwritten. Consider deleting previous creation of that class or rename it.\n",
      "  warnings.warn(\"A class named '{0}' has already been created and it \"\n",
      "/home/simon/.local/lib/python3.9/site-packages/deap/creator.py:138: RuntimeWarning: A class named 'Individual' has already been created and it will be overwritten. Consider deleting previous creation of that class or rename it.\n",
      "  warnings.warn(\"A class named '{0}' has already been created and it \"\n"
     ]
    }
   ],
   "source": [
    "\n",
    "GASVC_model = GASVC.fit(train_x, train_y)"
   ]
  },
  {
   "cell_type": "code",
   "execution_count": null,
   "metadata": {},
   "outputs": [
    {
     "name": "stdout",
     "output_type": "stream",
     "text": [
      "Selecting features with genetic algorithm.\n",
      "gen\tnevals\tavg                            \tstd                            \tmin                            \tmax                            \n",
      "0  \t50    \t[ 0.776453  2.8       0.005483]\t[ 0.031891  1.341641  0.003777]\t[ 0.742715  1.        0.000285]\t[ 0.878262  5.        0.01526 ]\n",
      "1  \t20    \t[-1799.34227    138.06      1800.005931]\t[ 3842.182703   363.382135  3841.871763]\t[-10000.            1.            0.000285]\t[     0.878262   1178.        10000.      ]\n",
      "2  \t26    \t[-2999.42439    296.42      3000.005671]\t[ 4582.95252    493.149798  4582.571982]\t[-10000.            2.            0.001427]\t[     0.878262   1163.        10000.      ]\n",
      "3  \t34    \t[-3799.486764   293.16      3800.004914]\t[ 4854.266243   473.993855  4853.860593]\t[-10000.            1.            0.001427]\t[     0.878262   1177.        10000.      ]\n",
      "4  \t17    \t[-2799.390682   209.28      2800.006256]\t[ 4490.368841   437.07789   4489.984963]\t[-10000.            3.            0.001427]\t[     0.880753   1198.        10000.      ]\n",
      "5  \t36    \t[-3599.45534    275.58      3600.006584]\t[ 4800.408495   470.03162   4799.995062]\t[-10000.            2.            0.002737]\t[     0.882477   1198.        10000.      ]\n",
      "6  \t34    \t[-2799.377932   206.08      2800.007491]\t[ 4490.376791   416.074313  4489.984193]\t[-10000.            2.            0.004076]\t[     0.883629   1178.        10000.      ]\n",
      "7  \t33    \t[-3199.404589   293.2       3200.007097]\t[ 4665.169965   487.561688  4664.756647]\t[-10000.            3.            0.005033]\t[     0.887654   1189.        10000.      ]\n",
      "8  \t23    \t[-1999.29659    186.46      2000.008118]\t[ 4000.351705   417.131069  3999.995941]\t[-10000.            3.            0.005033]\t[     0.887654   1263.        10000.      ]\n",
      "9  \t16    \t[-1199.222376   119.        1200.008618]\t[ 3249.902518   342.733891  3249.61218 ]\t[-10000.            3.            0.005033]\t[     0.887654   1205.        10000.      ]\n",
      "10 \t26    \t[-2199.309731   162.32      2200.008746]\t[ 4142.829627   390.02474   4142.458391]\t[-10000.            3.            0.005033]\t[     0.889572   1176.        10000.      ]\n",
      "11 \t30    \t[-2599.343607   250.88      2600.008917]\t[ 4386.731516   463.184224  4386.337154]\t[-10000.            4.            0.010368]\t[     0.889572   1169.        10000.      ]\n",
      "12 \t26    \t[-1399.236579   163.94      1400.010353]\t[ 3470.178335   394.14639   3469.866138]\t[-10000.            5.            0.010368]\t[     0.889572   1197.        10000.      ]\n",
      "13 \t26    \t[-1599.254255   180.78      1600.010043]\t[ 3666.386026   402.923183  3666.056173]\t[-10000.            5.            0.010368]\t[     0.889572   1145.        10000.      ]\n",
      "14 \t25    \t[-1599.25442    161.74      1600.009942]\t[ 3666.385954   388.630818  3666.056217]\t[-10000.            4.            0.010368]\t[     0.889572   1168.        10000.      ]\n",
      "15 \t24    \t[-2799.360785   295.22      2800.008356]\t[ 4490.387485   502.224424  4489.983653]\t[-10000.            4.            0.010368]\t[     0.889572   1632.        10000.      ]\n",
      "16 \t23    \t[-2199.307307   231.32      2200.008637]\t[ 4142.830914   452.815744  4142.458448]\t[-10000.            4.            0.010368]\t[     0.889572   1179.        10000.      ]\n",
      "17 \t28    \t[-2999.377771   276.14      3000.00743 ]\t[ 4582.983039   469.400213  4582.570831]\t[-10000.            4.            0.010368]\t[     0.889572   1180.        10000.      ]\n",
      "18 \t33    \t[-1999.288381   195.62      2000.008329]\t[ 4000.35581    413.363128  3999.995836]\t[-10000.            5.            0.010368]\t[     0.889572   1156.        10000.      ]\n",
      "19 \t29    \t[-2399.323925   274.02      2400.00788 ]\t[ 4271.211222   478.916798  4270.826873]\t[-10000.            5.            0.010368]\t[     0.889572   1184.        10000.      ]\n",
      "20 \t36    \t[-2599.341717   318.        2600.007672]\t[ 4386.732637   537.194192  4386.337892]\t[-10000.            5.            0.010368]\t[     0.889572   1693.        10000.      ]\n"
     ]
    }
   ],
   "source": [
    "GALinearSVC_model = GALinearSVC.fit(train_x, train_y)"
   ]
  },
  {
   "cell_type": "code",
   "execution_count": null,
   "metadata": {},
   "outputs": [],
   "source": [
    "# Best parameters found\n",
    "print(GASVC_model.best_params_)\n",
    "# Use the model fitted with the best parameters\n",
    "y_predict_ga = GASVC_model.predict(test_x)\n",
    "print(accuracy_score(test_y, y_predict_ga))"
   ]
  },
  {
   "cell_type": "code",
   "execution_count": null,
   "metadata": {},
   "outputs": [],
   "source": [
    "# Best parameters found\n",
    "print(GALinearSVC_model.best_params_)\n",
    "# Use the model fitted with the best parameters\n",
    "y_predict_ga = GALinearSVC_model.predict(test_x)\n",
    "print(accuracy_score(test_y, y_predict_ga))"
   ]
  },
  {
   "cell_type": "code",
   "execution_count": null,
   "metadata": {},
   "outputs": [
    {
     "name": "stdout",
     "output_type": "stream",
     "text": [
      "SVC score: 0.681090\n"
     ]
    }
   ],
   "source": [
    "GA_SVC_score = GASVC_model.score(test_x, test_y)\n",
    "print('SVC score: %f' % GA_SVC_score)"
   ]
  },
  {
   "cell_type": "code",
   "execution_count": null,
   "metadata": {},
   "outputs": [
    {
     "name": "stdout",
     "output_type": "stream",
     "text": [
      "SVC score: 0.681090\n"
     ]
    }
   ],
   "source": [
    "GA_LinearSVC_score = GALinearSVC_model.score(test_x, test_y)\n",
    "print('SVC score: %f' % GA_LinearSVC_score)"
   ]
  },
  {
   "cell_type": "code",
   "execution_count": null,
   "metadata": {},
   "outputs": [],
   "source": [
    "GA_SVC_y_pred = GASVC_model.predict(test_x)"
   ]
  },
  {
   "cell_type": "code",
   "execution_count": null,
   "metadata": {},
   "outputs": [],
   "source": [
    "GA_LinearSVC_y_pred = GALinearSVC_model.predict(test_x)"
   ]
  },
  {
   "cell_type": "code",
   "execution_count": null,
   "metadata": {},
   "outputs": [
    {
     "name": "stdout",
     "output_type": "stream",
     "text": [
      "SVC falsely detected  56.84 % of sane patients as having pneumonia\n",
      "SVC  killed  1.28 % of the ill patients\n",
      "\n",
      "GA SVC falsely detected  74.79 % of sane patients as having pneumonia\n",
      "GA SVC  killed  6.15 % of the ill patients\n",
      "\n",
      "Linear SVC falsely detected  58.97 % of sane patients as having pneumonia\n",
      "Linear SVC  killed  3.08 % of the ill patients\n",
      "\n",
      "GA Linear SVC falsely detected  74.79 % of sane patients as having pneumonia\n",
      "GA Linear SVC  killed  6.15 % of the ill patients\n",
      "\n"
     ]
    }
   ],
   "source": [
    "SVCbCm = confusion_matrix(test_y, SVC_y_pred)\n",
    "GASVCCm = confusion_matrix(test_y, GA_SVC_y_pred)\n",
    "linearSVCbCm = confusion_matrix(test_y, linearSVC_y_pred)\n",
    "GAlinearSVCbCm = confusion_matrix(test_y, GA_LinearSVC_y_pred)\n",
    "\n",
    "predsGA = {\n",
    "    \"SVC\": SVCbCm,\n",
    "    \"GA SVC\": GASVCCm,\n",
    "    \"Linear SVC\": linearSVCbCm,\n",
    "    \"GA Linear SVC\": GAlinearSVCbCm\n",
    "}\n",
    "\n",
    "for key, value in predsGA.items():\n",
    "    analyzeConfusionMatrix(key, value)"
   ]
  },
  {
   "cell_type": "code",
   "execution_count": null,
   "metadata": {},
   "outputs": [
    {
     "data": {
      "image/png": "[encoded data removed]",
      "text/plain": [
       "<Figure size 720x360 with 1 Axes>"
      ]
     },
     "metadata": {
      "needs_background": "light"
     },
     "output_type": "display_data"
    }
   ],
   "source": [
    "modelNames=list(predsGA.keys())\n",
    "fp=[x[0][1]/sum(x[0])*100 for x in predsGA.values()]\n",
    "fn=[x[1][0]/sum(x[1])*100 for x in predsGA.values()]\n",
    "\n",
    "xAxis=np.arange(len(modelNames))\n",
    "plt.figure(figsize=(10,5))\n",
    "\n",
    "plt.bar(xAxis -0.2, fp, width=0.4, label=\"False Positive\")\n",
    "plt.bar(xAxis +0.2, fn, width=0.4, label=\"False Negative\")\n",
    "plt.xticks(xAxis, modelNames)\n",
    "plt.legend()\n",
    "\n",
    "\n",
    "plt.show()"
   ]
  },
  {
   "cell_type": "markdown",
   "metadata": {},
   "source": [
    "#### Genetic degeneration\n",
    "The genetic algorithm implemented did not succeed in reducing the noise in a meaningfull way and even reduced the model effectiveness in both positive and negative case detection."
   ]
  }
 ],
 "metadata": {
  "interpreter": {
   "hash": "36cf16204b8548560b1c020c4e8fb5b57f0e4c58016f52f2d4be01e192833930"
  },
  "kernelspec": {
   "display_name": "Python 3.9.10 64-bit",
   "language": "python",
   "name": "python3"
  },
  "language_info": {
   "codemirror_mode": {
    "name": "ipython",
    "version": 3
   },
   "file_extension": ".py",
   "mimetype": "text/x-python",
   "name": "python",
   "nbconvert_exporter": "python",
   "pygments_lexer": "ipython3",
   "version": "3.9.12"
  },
  "orig_nbformat": 4
 },
 "nbformat": 4,
 "nbformat_minor": 2
}
