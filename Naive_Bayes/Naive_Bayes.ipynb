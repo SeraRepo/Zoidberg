{
 "cells": [
  {
   "cell_type": "markdown",
   "metadata": {},
   "source": [
    "## Imports"
   ]
  },
  {
   "cell_type": "code",
   "execution_count": 1,
   "metadata": {},
   "outputs": [],
   "source": [
    "from sklearn.datasets import load_iris\n",
    "from sklearn.model_selection import train_test_split\n",
    "from sklearn.naive_bayes import GaussianNB, MultinomialNB, ComplementNB, BernoulliNB, CategoricalNB\n",
    "from sklearn.metrics import accuracy_score\n",
    "from sklearn.metrics import confusion_matrix\n",
    "import cv2\n",
    "import gzip\n",
    "import os\n",
    "import sys\n",
    "import struct\n",
    "import numpy as np\n",
    "import matplotlib.pyplot as plt\n",
    "import seaborn as sns\n",
    "from tqdm import tqdm"
   ]
  },
  {
   "cell_type": "markdown",
   "metadata": {},
   "source": [
    "## Data processing"
   ]
  },
  {
   "cell_type": "code",
   "execution_count": 2,
   "metadata": {},
   "outputs": [],
   "source": [
    "def get_and_process_data(path, image_size):\n",
    "    data_array = os.listdir(path)\n",
    "    data = list()\n",
    "    for img in tqdm(data_array):\n",
    "        try:\n",
    "            img_arr = cv2.imread(os.path.join(path, img), cv2.IMREAD_GRAYSCALE)\n",
    "            resized_array = cv2.resize(img_arr, (image_size, image_size))\n",
    "            #squasing the array in 2D\n",
    "            reshaped_array = resized_array.reshape(image_size * image_size)\n",
    "            data.append(reshaped_array)\n",
    "        except Exception as e:\n",
    "            print(e)\n",
    "    return np.array(data)"
   ]
  },
  {
   "cell_type": "code",
   "execution_count": 3,
   "metadata": {},
   "outputs": [
    {
     "name": "stderr",
     "output_type": "stream",
     "text": [
      " 57%|█████▋    | 2228/3876 [00:21<00:09, 171.71it/s]"
     ]
    },
    {
     "name": "stdout",
     "output_type": "stream",
     "text": [
      "OpenCV(4.5.5) /io/opencv/modules/imgproc/src/resize.cpp:4052: error: (-215:Assertion failed) !ssize.empty() in function 'resize'\n",
      "\n"
     ]
    },
    {
     "name": "stderr",
     "output_type": "stream",
     "text": [
      "100%|██████████| 3876/3876 [00:42<00:00, 91.00it/s] \n",
      " 57%|█████▋    | 760/1342 [00:18<00:14, 41.22it/s]"
     ]
    },
    {
     "name": "stdout",
     "output_type": "stream",
     "text": [
      "OpenCV(4.5.5) /io/opencv/modules/imgproc/src/resize.cpp:4052: error: (-215:Assertion failed) !ssize.empty() in function 'resize'\n",
      "\n"
     ]
    },
    {
     "name": "stderr",
     "output_type": "stream",
     "text": [
      "100%|██████████| 1342/1342 [00:37<00:00, 35.34it/s]\n",
      "100%|██████████| 390/390 [00:03<00:00, 101.45it/s]\n",
      "100%|██████████| 234/234 [00:06<00:00, 38.86it/s]\n"
     ]
    }
   ],
   "source": [
    "dataset_location = './dataset'\n",
    "image_size = 50\n",
    "train_pneumonia = get_and_process_data(dataset_location+'/train/PNEUMONIA', image_size)\n",
    "train_normal = get_and_process_data(dataset_location+'/train/NORMAL', image_size)\n",
    "test_pneumonia = get_and_process_data(dataset_location+'/test/PNEUMONIA', image_size)\n",
    "test_normal = get_and_process_data(dataset_location+'/test/NORMAL', image_size)\n"
   ]
  },
  {
   "cell_type": "code",
   "execution_count": 4,
   "metadata": {},
   "outputs": [
    {
     "name": "stderr",
     "output_type": "stream",
     "text": [
      "100%|██████████| 3875/3875 [00:00<00:00, 412113.39it/s]\n",
      "100%|██████████| 1341/1341 [00:00<00:00, 302916.94it/s]\n",
      "100%|██████████| 390/390 [00:00<00:00, 311576.87it/s]\n",
      "100%|██████████| 234/234 [00:00<00:00, 171465.26it/s]\n"
     ]
    }
   ],
   "source": [
    "train_x, train_y, test_x, test_y = list(), list(), list(), list()\n",
    "for img in tqdm(train_pneumonia):\n",
    "    train_x.append(img)\n",
    "    train_y.append('PNEUMONIA')\n",
    "for img in tqdm(train_normal):\n",
    "    train_x.append(img)\n",
    "    train_y.append('NORMAL')\n",
    "for img in tqdm(test_pneumonia):\n",
    "    test_x.append(img)\n",
    "    test_y.append('PNEUMONIA')\n",
    "for img in tqdm(test_normal):\n",
    "    test_x.append(img)\n",
    "    test_y.append('NORMAL')\n",
    "    "
   ]
  },
  {
   "cell_type": "markdown",
   "metadata": {},
   "source": [
    "## Training"
   ]
  },
  {
   "cell_type": "markdown",
   "metadata": {},
   "source": [
    "### Gaussian Naive Bayes\n",
    "The gaussian model assumes the distribution of features to be gaussian in a binomial distribution.\n",
    "### Multinominal Naive Bayes\n",
    "The multinomial naive bayes implements the naive bayes for multinomial distribution. It is therefore unlikely to outperform the gaussian model for our binomial dataset of sane/pneumonia.\n",
    "### Complement Naive Bayes\n",
    "Complement naives bayes is an adaptation of the multinomial for imbalanced datasets, it is unlikely to perform any better than the multinomial since we are note using a multinominal distribution.\n",
    "### Bernoulli Naive bayes\n",
    "A bernoulli distribution has multiple features of a binary value. We have only one feature (the image squashed in a single array) with a binary value."
   ]
  },
  {
   "cell_type": "code",
   "execution_count": 5,
   "metadata": {},
   "outputs": [],
   "source": [
    "\n",
    "gnb = GaussianNB()\n",
    "mnb = MultinomialNB()\n",
    "conb = ComplementNB()\n",
    "bnb = BernoulliNB()\n",
    "canb = CategoricalNB()\n",
    "gnb_model = gnb.fit(train_x, train_y)\n",
    "mnb_model = mnb.fit(train_x, train_y)\n",
    "conb_model = conb.fit(train_x, train_y)\n",
    "bnb_model = bnb.fit(train_x, train_y)\n",
    "canb_model = canb.fit(train_x, train_y)"
   ]
  },
  {
   "cell_type": "markdown",
   "metadata": {},
   "source": [
    "## Metrics"
   ]
  },
  {
   "cell_type": "markdown",
   "metadata": {},
   "source": [
    "### Accuracy"
   ]
  },
  {
   "cell_type": "code",
   "execution_count": 6,
   "metadata": {},
   "outputs": [],
   "source": [
    "gnb_y_pred = gnb_model.predict(test_x)\n",
    "mnb_y_pred = mnb_model.predict(test_x)\n",
    "conb_y_pred = conb_model.predict(test_x)\n",
    "bnb_y_pred = bnb_model.predict(test_x)\n",
    "# canb_y_pred = canb_model.predict(test_x)\n"
   ]
  },
  {
   "cell_type": "code",
   "execution_count": 7,
   "metadata": {},
   "outputs": [
    {
     "name": "stdout",
     "output_type": "stream",
     "text": [
      "gnb score: 0.729167\n",
      "mnb score: 0.716346\n",
      "conb score: 0.716346\n",
      "bnb score: 0.636218\n"
     ]
    }
   ],
   "source": [
    "\n",
    "print('gnb score: %f' % gnb_model.score(test_x, test_y))\n",
    "print('mnb score: %f' % mnb_model.score(test_x, test_y))\n",
    "print('conb score: %f' % conb_model.score(test_x, test_y))\n",
    "print('bnb score: %f' % bnb_model.score(test_x, test_y))\n",
    "# print('canb score: %f' % canb_model.score(test_x, test_y))"
   ]
  },
  {
   "cell_type": "code",
   "execution_count": 12,
   "metadata": {},
   "outputs": [
    {
     "data": {
      "image/png": "[encoded data removed]",
      "text/plain": [
       "<Figure size 720x360 with 1 Axes>"
      ]
     },
     "metadata": {
      "needs_background": "light"
     },
     "output_type": "display_data"
    }
   ],
   "source": [
    "accuracy = {\n",
    "    \"Gaussian Naive Bayes\": gnb_model.score(test_x, test_y),\n",
    "    \"Multinomial Naive Bayes\": mnb_model.score(test_x, test_y),\n",
    "    \"Complement Naive Bayes\": conb_model.score(test_x, test_y),\n",
    "    \"Bernoulli Naive Bayes\": bnb_model.score(test_x, test_y)\n",
    "}\n",
    "\n",
    "modelNames=list(accuracy.keys())\n",
    "acc=[x*100 for x in accuracy.values()]\n",
    "\n",
    "xAxis=np.arange(len(modelNames))\n",
    "plt.figure(figsize=(10,5))\n",
    "\n",
    "plt.bar(xAxis, acc, width=0.4, label=\"Accuracy\")\n",
    "plt.xticks(xAxis, modelNames)\n",
    "plt.legend()\n",
    "\n",
    "\n",
    "plt.show()"
   ]
  },
  {
   "cell_type": "markdown",
   "metadata": {},
   "source": [
    "### False negatives (deaths)"
   ]
  },
  {
   "cell_type": "code",
   "execution_count": 9,
   "metadata": {},
   "outputs": [],
   "source": [
    "def analyzeConfusionMatrix(model, cm):\n",
    "    falsePositiveRatio = cm[0][1]/sum(cm[0])*100\n",
    "    print(model, 'falsely detected ', \"{:.2f}\".format(falsePositiveRatio), '% of sane patients as having pneumonia')\n",
    "    deadRatio = cm[1][0]/sum(cm[1])*100\n",
    "    print(model,' killed ',\"{:.2f}\".format(deadRatio), '% of the ill patients')\n",
    "    print()\n",
    "    return deadRatio"
   ]
  },
  {
   "cell_type": "code",
   "execution_count": 10,
   "metadata": {},
   "outputs": [
    {
     "name": "stdout",
     "output_type": "stream",
     "text": [
      "Gaussian Naive Bayes falsely detected  36.32 % of sane patients as having pneumonia\n",
      "Gaussian Naive Bayes  killed  21.54 % of the ill patients\n",
      "\n",
      "Multinomial Naive Bayes falsely detected  29.49 % of sane patients as having pneumonia\n",
      "Multinomial Naive Bayes  killed  27.69 % of the ill patients\n",
      "\n",
      "Complement Naive Bayes falsely detected  29.49 % of sane patients as having pneumonia\n",
      "Complement Naive Bayes  killed  27.69 % of the ill patients\n",
      "\n",
      "Bernoulli Naive Bayes falsely detected  41.45 % of sane patients as having pneumonia\n",
      "Bernoulli Naive Bayes  killed  33.33 % of the ill patients\n",
      "\n"
     ]
    }
   ],
   "source": [
    "gnbCm = confusion_matrix(test_y, gnb_y_pred)\n",
    "mnbCm = confusion_matrix(test_y, mnb_y_pred)\n",
    "conbCm = confusion_matrix(test_y, conb_y_pred)\n",
    "bnbCm = confusion_matrix(test_y, bnb_y_pred)\n",
    "\n",
    "preds = {\n",
    "    \"Gaussian Naive Bayes\": gnbCm,\n",
    "    \"Multinomial Naive Bayes\": mnbCm,\n",
    "    \"Complement Naive Bayes\": conbCm,\n",
    "    \"Bernoulli Naive Bayes\": bnbCm\n",
    "}\n",
    "\n",
    "for key, value in preds.items():\n",
    "    analyzeConfusionMatrix(key, value)"
   ]
  },
  {
   "cell_type": "code",
   "execution_count": 11,
   "metadata": {},
   "outputs": [
    {
     "data": {
      "image/png": "[encoded data removed]",
      "text/plain": [
       "<Figure size 720x360 with 1 Axes>"
      ]
     },
     "metadata": {
      "needs_background": "light"
     },
     "output_type": "display_data"
    }
   ],
   "source": [
    "modelNames=list(preds.keys())\n",
    "fp=[x[0][1]/sum(x[0])*100 for x in preds.values()]\n",
    "fn=[x[1][0]/sum(x[1])*100 for x in preds.values()]\n",
    "\n",
    "xAxis=np.arange(len(modelNames))\n",
    "plt.figure(figsize=(10,5))\n",
    "\n",
    "plt.bar(xAxis -0.2, fp, width=0.4, label=\"False Positive\")\n",
    "plt.bar(xAxis +0.2, fn, width=0.4, label=\"False Negative\")\n",
    "plt.xticks(xAxis, modelNames)\n",
    "plt.legend()\n",
    "\n",
    "\n",
    "plt.show()"
   ]
  },
  {
   "cell_type": "markdown",
   "metadata": {},
   "source": [
    "## Gaussian Naive Bayes reign supreme\n",
    "As expected, the Gaussian Naive Bayes is the best model since the other are made for multinomial distributions.\n",
    "\n",
    "It is the best model by killing \"only\" 21% of the patients having pneumonia.\n",
    "\n",
    "While the Gaussian Naive Bayes model has a slightly higher false positive ratio than the Multinomial and Complement, it has by far the lowest false negative (patient with pneumonia detected as sane) which is the most important metrics since it means the death of the patient.\n",
    "\n"
   ]
  }
 ],
 "metadata": {
  "interpreter": {
   "hash": "36cf16204b8548560b1c020c4e8fb5b57f0e4c58016f52f2d4be01e192833930"
  },
  "kernelspec": {
   "display_name": "Python 3.9.10 64-bit",
   "language": "python",
   "name": "python3"
  },
  "language_info": {
   "codemirror_mode": {
    "name": "ipython",
    "version": 3
   },
   "file_extension": ".py",
   "mimetype": "text/x-python",
   "name": "python",
   "nbconvert_exporter": "python",
   "pygments_lexer": "ipython3",
   "version": "3.9.12"
  },
  "orig_nbformat": 4
 },
 "nbformat": 4,
 "nbformat_minor": 2
}
